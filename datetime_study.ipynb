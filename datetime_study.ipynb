{
 "cells": [
  {
   "cell_type": "code",
   "execution_count": null,
   "metadata": {},
   "outputs": [],
   "source": [
    "# \"naive\" と \"aware\" の2種類の日付と時刻オブジェクトがあります。\n",
    "# aware オブジェクトは他の aware オブジェクトとの相対関係を把握出来るように、\n",
    "#タイムゾーンや夏時間の情報のような、アルゴリズム的で政治的な適用可能な時間調節に関する知識を持っています。\n",
    "#aware オブジェクトは解釈の余地のない特定の実時刻を表現するのに利用されます [1]。\n",
    "\n",
    "# naive オブジェクトには他の日付時刻オブジェクトとの相対関係を把握するのに足る情報が含まれません。\n",
    "#あるプログラム内の数字がメートルを表わしているのか、マイルなのか、それとも質量なのかがプログラムによって異なるように、\n",
    "#naive オブジェクトが協定世界時 (UTC) なのか、現地時間なのか、それとも他のタイムゾーンなのかはそのプログラムに依存します。\n",
    "#Naive オブジェクトはいくつかの現実的な側面を無視してしまうというコストを無視すれば、簡単に理解でき、うまく利用することができます。\n",
    "\n",
    "# aware オブジェクトを必要とするアプリケーションのために、 datetime と time オブジェクトは追加のタイムゾーン情報の属性 tzinfo を持ちます。\n",
    "#tzinfo には抽象クラス tzinfo のサブクラスのインスタンスを設定することができます。 \n",
    "#これらの tzinfo オブジェクトは UTC 時間からのオフセットやタイムゾーンの名前、夏時間が実施されるかの情報を保持しています。 \n",
    "#ただ一つの具象 tzinfo クラスである timezone クラスが datetime モジュールで提供されています。 \n",
    "#timezone クラスは単純な UTC からの固定オフセットだけを表わすUTC 自身や北アメリカの EST や EDT タイムゾーンのようなものも表現できます。 \n",
    "#より深く詳細までタイムゾーンをサポートするかはアプリケーションに依存します。 \n",
    "#世界中の時刻の調整を決めるルールは合理的というよりかは政治的なもので、頻繁に変わり、UTC を除くと都合のよい基準というものはありません。\n",
    "\n",
    "#date 型のオブジェクトは常に naive です。\n",
    "#time や datetime 型のオブジェクトは naive か aware のどちらかになります。 \n",
    "#datetime オブジェクト d は d.tzinfo が None でなく d.tzinfo.utcoffset(d) が None を返さない場合、aware です。\n",
    "#d.tzinfo が None であるか d.tzinfo が None でないが d.tzinfo.utcoffset(d) が None を返す場合、 d は naive です。 \n",
    "#time のオブジェクト t は t.tzinfo が None でなく t.tzinfo.utcoffset(None) が None を返さない場合に aware になって、\n",
    "#それ以外の場合には t は naive になります。"
   ]
  },
  {
   "cell_type": "code",
   "execution_count": 25,
   "metadata": {},
   "outputs": [
    {
     "name": "stdout",
     "output_type": "stream",
     "text": [
      "2018-04-01 20:10:56.123000+09:00\n"
     ]
    }
   ],
   "source": [
    "# 文字列から日付\n",
    "\n",
    "import datetime\n",
    "\n",
    "utc_date_str = '2018-04-01 20:10:56.123+0900'\n",
    "dt = datetime.datetime.strptime(utc_date_str, '%Y-%m-%d %H:%M:%S.%f%z')\n",
    "\n",
    "print(dt)"
   ]
  },
  {
   "cell_type": "code",
   "execution_count": 29,
   "metadata": {},
   "outputs": [
    {
     "name": "stdout",
     "output_type": "stream",
     "text": [
      "2018-04-01 20:10:56+09:00\n",
      "UTC+09:00\n"
     ]
    }
   ],
   "source": [
    "# 文字列から日付(最初からJSTとして扱う)\n",
    "import datetime\n",
    "\n",
    "utc_date_str = '2018-04-01 20:10:56'\n",
    "dt = datetime.datetime.strptime(utc_date_str + '+0900', '%Y-%m-%d %H:%M:%S%z')\n",
    "\n",
    "print(dt)\n",
    "print(dt.tzinfo)"
   ]
  },
  {
   "cell_type": "code",
   "execution_count": 26,
   "metadata": {},
   "outputs": [
    {
     "name": "stdout",
     "output_type": "stream",
     "text": [
      "2018-04-01 20:10:56+09:00\n"
     ]
    }
   ],
   "source": [
    "# 文字列から日付(dateutilを使う)\n",
    "import datetime\n",
    "from dateutil.parser import parse\n",
    "from dateutil.tz import gettz\n",
    "\n",
    "tzinfos = {'JST' : gettz('Asia/Tokyo')}\n",
    "date_str = '2018-04-01 20:10:56 JST'\n",
    "str_to_dt = parse(date_str, tzinfos=tzinfos)\n",
    "print(str_to_dt)"
   ]
  },
  {
   "cell_type": "code",
   "execution_count": 1,
   "metadata": {},
   "outputs": [
    {
     "name": "stdout",
     "output_type": "stream",
     "text": [
      "Str to dt\n",
      "2018-04-01 20:10:56\n",
      "1522581056.0\n",
      "None\n",
      "str_to_dt is naive\n",
      "UTC dt\n",
      "2018-04-01 11:10:56+00:00\n",
      "1522581056.0\n",
      "UTC\n",
      "0:00:00\n",
      "JST dt\n",
      "2018-04-01 20:10:56+09:00\n",
      "1522581056.0\n",
      "JST\n",
      "9:00:00\n"
     ]
    }
   ],
   "source": [
    "# 文字列から日付(pytzを使う)\n",
    "import datetime\n",
    "from pytz import timezone\n",
    "import pytz\n",
    "\n",
    "date_str = '2018-04-01 20:10:56'\n",
    "str_to_dt = datetime.datetime.strptime(date_str, '%Y-%m-%d %H:%M:%S')\n",
    "# これはnaiveだから、マシン上の時刻に依存する\n",
    "print(\"Str to dt\")\n",
    "print(str_to_dt)\n",
    "print(str_to_dt.timestamp())\n",
    "print(str_to_dt.tzname())\n",
    "if str_to_dt.tzinfo is not None:\n",
    "    print(str_to_dt.tzinfo.utcoffset(str_to_dt))\n",
    "else:\n",
    "    print('str_to_dt is naive')\n",
    "    \n",
    "# 以下、naiveな時刻をベースに演算すると、ずれる    \n",
    "utc = timezone('UTC')\n",
    "utc_dt = str_to_dt.astimezone(utc)\n",
    "print(\"UTC dt\")\n",
    "print(utc_dt)\n",
    "print(utc_dt.timestamp())\n",
    "print(utc_dt.tzname())\n",
    "print(utc_dt.tzinfo.utcoffset(utc_dt))\n",
    "\n",
    "jst = timezone('Asia/Tokyo');\n",
    "jst_dt = str_to_dt.astimezone(jst);\n",
    "print(\"JST dt\")\n",
    "print(jst_dt)\n",
    "print(jst_dt.timestamp())\n",
    "print(jst_dt.tzname())\n",
    "print(jst_dt.tzinfo.utcoffset(jst_dt))\n"
   ]
  },
  {
   "cell_type": "code",
   "execution_count": 3,
   "metadata": {},
   "outputs": [
    {
     "data": {
      "text/plain": [
       "datetime.datetime(2018, 4, 22, 7, 4, 8, 844617, tzinfo=<DstTzInfo 'Asia/Tokyo' JST+9:00:00 STD>)"
      ]
     },
     "execution_count": 3,
     "metadata": {},
     "output_type": "execute_result"
    }
   ],
   "source": [
    "# 日付のtimezone変換(pytz)\n",
    "import datetime\n",
    "from pytz import timezone\n",
    "import pytz\n",
    "\n",
    "# 19分ずれる\n",
    "jst = timezone('Asia/Tokyo');\n",
    "jst\n",
    "\n",
    "jst.localize(datetime.datetime.now())"
   ]
  },
  {
   "cell_type": "code",
   "execution_count": 17,
   "metadata": {},
   "outputs": [
    {
     "name": "stdout",
     "output_type": "stream",
     "text": [
      "1524349374\n",
      "1524349374\n",
      "1524349374000\n",
      "1524349374000\n"
     ]
    }
   ],
   "source": [
    "# datetimeからepochmills\n",
    "import datetime\n",
    "import time\n",
    "\n",
    "dt = datetime.datetime.now()\n",
    "dt.timestamp()\n",
    "\n",
    "# epochtime\n",
    "print(int(time.mktime(dt.timetuple())))\n",
    "print(int(dt.timestamp()))\n",
    "\n",
    "# epochmillis\n",
    "print(int(dt.timestamp()) * 1000)\n",
    "print(int(time.mktime(dt.timetuple())) * 1000)\n"
   ]
  },
  {
   "cell_type": "code",
   "execution_count": 24,
   "metadata": {},
   "outputs": [
    {
     "name": "stdout",
     "output_type": "stream",
     "text": [
      "2018-04-22 07:22:54\n",
      "2018-04-22 07:22:54.099776\n",
      "2018-04-22 07:22:54.099000\n"
     ]
    }
   ],
   "source": [
    "# epochtimeからdatetime\n",
    "import datetime\n",
    "\n",
    "e = 1524349374\n",
    "dt = datetime.datetime.fromtimestamp(e)\n",
    "print(dt)\n",
    "\n",
    "mills = 1524349374.099776\n",
    "dt2 = datetime.datetime.fromtimestamp(mills)\n",
    "print(dt2)\n",
    "\n",
    "mills = 1524349374099\n",
    "dt3 = datetime.datetime.fromtimestamp(mills / 1000)\n",
    "print(dt3)\n"
   ]
  },
  {
   "cell_type": "code",
   "execution_count": 27,
   "metadata": {},
   "outputs": [
    {
     "data": {
      "text/plain": [
       "datetime.datetime(2018, 4, 22, 8, 36, 34, 878461, tzinfo=<DstTzInfo 'Asia/Tokyo' JST+9:00:00 STD>)"
      ]
     },
     "execution_count": 27,
     "metadata": {},
     "output_type": "execute_result"
    }
   ],
   "source": [
    "import pytz\n",
    "\n",
    "JST = pytz.timezone('Asia/Tokyo')\n",
    "JST.localize(datetime.datetime.now())"
   ]
  },
  {
   "cell_type": "code",
   "execution_count": null,
   "metadata": {},
   "outputs": [],
   "source": []
  }
 ],
 "metadata": {
  "kernelspec": {
   "display_name": "Python 3",
   "language": "python",
   "name": "python3"
  },
  "language_info": {
   "codemirror_mode": {
    "name": "ipython",
    "version": 3
   },
   "file_extension": ".py",
   "mimetype": "text/x-python",
   "name": "python",
   "nbconvert_exporter": "python",
   "pygments_lexer": "ipython3",
   "version": "3.6.1"
  }
 },
 "nbformat": 4,
 "nbformat_minor": 2
}
